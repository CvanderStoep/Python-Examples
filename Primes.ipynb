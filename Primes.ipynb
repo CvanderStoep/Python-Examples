{
 "cells": [
  {
   "cell_type": "code",
   "execution_count": 1,
   "metadata": {},
   "outputs": [
    {
     "data": {
      "text/plain": [
       "'1.0.3'"
      ]
     },
     "execution_count": 1,
     "metadata": {},
     "output_type": "execute_result"
    }
   ],
   "source": [
    "#import numpy as np\n",
    "import math\n",
    "import pandas as pd\n",
    "pd.__version__"
   ]
  },
  {
   "cell_type": "code",
   "execution_count": 2,
   "metadata": {},
   "outputs": [],
   "source": [
    "def delers(n): #returns a sorted list of delers\n",
    "    deler = []\n",
    "    for k in range(2,int(math.sqrt(n))+1):\n",
    "        if n % k == 0:\n",
    "            deler.append(k)\n",
    "            if n // k != k:\n",
    "                deler.append(int(n/k))\n",
    "    deler.sort()\n",
    "    return deler         "
   ]
  },
  {
   "cell_type": "code",
   "execution_count": 3,
   "metadata": {},
   "outputs": [],
   "source": [
    "def isprime(n): #returns True is the number is prime.\n",
    "    if n == 1: return False\n",
    "    for k in range(2,int(math.sqrt(n))+1):\n",
    "        if n % k == 0: return False\n",
    "    return True"
   ]
  },
  {
   "cell_type": "code",
   "execution_count": 4,
   "metadata": {},
   "outputs": [],
   "source": [
    "def primes(n): #return a list of prime values below the number n\n",
    "    prime = []\n",
    "    for i in range(2,n):\n",
    "        if isprime(i): prime.append(i)\n",
    "    #print(prime[0:5],'...',prime[-5:])\n",
    "    return prime"
   ]
  },
  {
   "cell_type": "code",
   "execution_count": 5,
   "metadata": {},
   "outputs": [],
   "source": [
    "def primeproduct(n): # return the product (+1) of all primes below the number n\n",
    "    primeproduct = 1\n",
    "    for pr in primes(n):\n",
    "        primeproduct *=pr\n",
    "    return primeproduct    "
   ]
  },
  {
   "cell_type": "code",
   "execution_count": 11,
   "metadata": {},
   "outputs": [
    {
     "name": "stdout",
     "output_type": "stream",
     "text": [
      "primes <  100 :  [2, 3, 5, 7, 11, 13, 17, 19, 23, 29, 31, 37, 41, 43, 47, 53, 59, 61, 67, 71, 73, 79, 83, 89, 97]\n",
      "primeproduct + 1 =  2305567963945518424753102147331756071\n",
      "this number is prime:  False\n"
     ]
    }
   ],
   "source": [
    "a = 100\n",
    "print('primes < ',a,': ', primes(a))\n",
    "print('primeproduct + 1 = ', primeproduct(a)+1)\n",
    "#print(delers(primeproduct(a)+1))\n",
    "print('this number is prime: ', isprime(primeproduct(a)+1))"
   ]
  },
  {
   "cell_type": "code",
   "execution_count": null,
   "metadata": {},
   "outputs": [],
   "source": [
    "delers(2305567963945518424753102147331756071)"
   ]
  }
 ],
 "metadata": {
  "kernelspec": {
   "display_name": "Python 3",
   "language": "python",
   "name": "python3"
  },
  "language_info": {
   "codemirror_mode": {
    "name": "ipython",
    "version": 3
   },
   "file_extension": ".py",
   "mimetype": "text/x-python",
   "name": "python",
   "nbconvert_exporter": "python",
   "pygments_lexer": "ipython3",
   "version": "3.8.3"
  }
 },
 "nbformat": 4,
 "nbformat_minor": 2
}
